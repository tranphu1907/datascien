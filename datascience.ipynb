{
  "metadata": {
    "language_info": {
      "codemirror_mode": {
        "name": "python",
        "version": 3
      },
      "file_extension": ".py",
      "mimetype": "text/x-python",
      "name": "python",
      "nbconvert_exporter": "python",
      "pygments_lexer": "ipython3",
      "version": "3.8"
    },
    "kernelspec": {
      "name": "python",
      "display_name": "Python (Pyodide)",
      "language": "python"
    }
  },
  "nbformat_minor": 4,
  "nbformat": 4,
  "cells": [
    {
      "cell_type": "markdown",
      "source": "##Hello",
      "metadata": {}
    },
    {
      "cell_type": "markdown",
      "source": "Test your knowledge of data science",
      "metadata": {}
    },
    {
      "cell_type": "markdown",
      "source": "Hi my name is phu",
      "metadata": {}
    },
    {
      "cell_type": "markdown",
      "source": "1.list data science languages.",
      "metadata": {}
    },
    {
      "cell_type": "markdown",
      "source": "- Python\n- R\n- SQL\n- C/C++\n- Java\n- JavaScript\n- Go\n- Scala\n- Julia\n- Swift\n- MATLAB\n- SAS",
      "metadata": {}
    },
    {
      "cell_type": "markdown",
      "source": " list data science libraries",
      "metadata": {}
    },
    {
      "cell_type": "markdown",
      "source": "- scrapy\n- numpy\n- scipy\n- pandas\n- keras\n- scikit\n- tensorflow",
      "metadata": {}
    },
    {
      "cell_type": "markdown",
      "source": "a table of Data Science tools",
      "metadata": {}
    },
    {
      "cell_type": "markdown",
      "source": "- my sql and PostgreSQL\n- MongoDB Apache CouchDB\n- Apache Cassandra\n- Hadoop File System\n-  Cloud File\n- Elasticsearch\n- jupyter notebook\n- Oracle database\n- Microsoft SQL Server\n- IBM Db2.\n",
      "metadata": {}
    },
    {
      "cell_type": "markdown",
      "source": "introducing arithmetic expression examples",
      "metadata": {}
    },
    {
      "cell_type": "code",
      "source": "25 + 30",
      "metadata": {
        "trusted": true
      },
      "execution_count": 2,
      "outputs": [
        {
          "execution_count": 2,
          "output_type": "execute_result",
          "data": {
            "text/plain": "55"
          },
          "metadata": {}
        }
      ]
    },
    {
      "cell_type": "code",
      "source": "60+10",
      "metadata": {
        "trusted": true
      },
      "execution_count": 1,
      "outputs": [
        {
          "execution_count": 1,
          "output_type": "execute_result",
          "data": {
            "text/plain": "70"
          },
          "metadata": {}
        }
      ]
    },
    {
      "cell_type": "markdown",
      "source": "multiply and add numbers",
      "metadata": {}
    },
    {
      "cell_type": "code",
      "source": "20+10",
      "metadata": {
        "trusted": true
      },
      "execution_count": 3,
      "outputs": [
        {
          "execution_count": 3,
          "output_type": "execute_result",
          "data": {
            "text/plain": "30"
          },
          "metadata": {}
        }
      ]
    },
    {
      "cell_type": "code",
      "source": "20*10",
      "metadata": {
        "trusted": true
      },
      "execution_count": 4,
      "outputs": [
        {
          "execution_count": 4,
          "output_type": "execute_result",
          "data": {
            "text/plain": "200"
          },
          "metadata": {}
        }
      ]
    },
    {
      "cell_type": "markdown",
      "source": "change minute to hours",
      "metadata": {}
    },
    {
      "cell_type": "code",
      "source": "120/60",
      "metadata": {
        "trusted": true
      },
      "execution_count": 6,
      "outputs": [
        {
          "execution_count": 6,
          "output_type": "execute_result",
          "data": {
            "text/plain": "2.0"
          },
          "metadata": {}
        }
      ]
    },
    {
      "cell_type": "markdown",
      "source": "Objectives",
      "metadata": {}
    },
    {
      "cell_type": "code",
      "source": "- Become 1 Data Professional ",
      "metadata": {},
      "execution_count": null,
      "outputs": []
    },
    {
      "cell_type": "code",
      "source": "-make a lot of money ...",
      "metadata": {},
      "execution_count": null,
      "outputs": []
    },
    {
      "cell_type": "markdown",
      "source": "Tran Phu",
      "metadata": {}
    }
  ]
}